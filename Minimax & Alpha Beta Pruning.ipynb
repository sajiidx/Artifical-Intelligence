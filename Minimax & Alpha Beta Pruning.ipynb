{
 "cells": [
  {
   "cell_type": "code",
   "execution_count": 145,
   "metadata": {},
   "outputs": [],
   "source": [
    "class Tree:\n",
    "    class Node:\n",
    "        def __init__(self, data):\n",
    "            self.data = data\n",
    "            self.child = []\n",
    "        def append(self, node):\n",
    "            self.child.append(node)\n",
    "            \n",
    "    def __init__(self, data):\n",
    "        self.root = self.Node(data)\n",
    "        \n",
    "    def _insert(self, root, parentData, childData):\n",
    "        if root:\n",
    "            if root.data == parentData:\n",
    "                root.append(self.Node(childData))\n",
    "            else:\n",
    "                for child in root.child:\n",
    "                    child = self._insert(child, parentData, childData)\n",
    "        return root\n",
    "    \n",
    "    def insert(self, parentData, childData):\n",
    "        self.root = self._insert(self.root, parentData, childData)\n",
    "    \n",
    "    def _print(self, root):\n",
    "        if root:\n",
    "            print(root.data)\n",
    "            for child in root.child:\n",
    "                    self._print(child)\n",
    "                    \n",
    "    def show(self):\n",
    "        self._print(self.root)\n",
    "        \n",
    "    def minimax_ab(self, node, depth, ismax, alpha, beta):\n",
    "        if len(node.child) == 0 :\n",
    "            return node.data\n",
    "\n",
    "        if ismax:\n",
    "            bestVal = float('-inf') \n",
    "            for child in node.child:\n",
    "                value = self.minimax_ab(child, depth+1, False, alpha, beta)\n",
    "                bestVal = max(bestVal, value) \n",
    "                alpha = max(alpha, bestVal)\n",
    "                if beta <= alpha:\n",
    "                    break\n",
    "            return bestVal\n",
    "\n",
    "        else :\n",
    "            bestVal = float('inf') \n",
    "            for child in node.child:\n",
    "                value = self.minimax_ab(child, depth+1, True, alpha, beta)\n",
    "                bestVal = min( bestVal, value) \n",
    "                beta = min( beta, bestVal)\n",
    "                if beta <= alpha:\n",
    "                    break\n",
    "            return bestVal\n",
    "        \n",
    "    def minimax(self, node,ismax = True):\n",
    "        if node:\n",
    "            if len(node.child) == 0:\n",
    "                return node.data\n",
    "            \n",
    "            if ismax:\n",
    "                best = float('-inf')\n",
    "                for child in node.child:\n",
    "                    val = self.minimax(child, False)\n",
    "                    best = max(best, val)\n",
    "                return best\n",
    "            else:\n",
    "                best = float('inf')\n",
    "                for child in node.child:\n",
    "                    val = self.minimax(child, True)\n",
    "                    best = min(best, val)\n",
    "                return best"
   ]
  },
  {
   "cell_type": "markdown",
   "metadata": {},
   "source": [
    "# Question 01"
   ]
  },
  {
   "cell_type": "code",
   "execution_count": 146,
   "metadata": {},
   "outputs": [
    {
     "name": "stdout",
     "output_type": "stream",
     "text": [
      "10000\n",
      "-10000\n",
      "9999\n",
      "-1\n",
      "8\n",
      "9998\n",
      "-3\n",
      "-1\n",
      "-9999\n",
      "9997\n",
      "2\n",
      "1\n",
      "9996\n",
      "-3\n",
      "4\n"
     ]
    }
   ],
   "source": [
    "MAX =  10000\n",
    "MIN = -10000\n",
    "#level 0\n",
    "t = Tree(MAX)\n",
    "#level 1\n",
    "t.insert(MAX, MIN)\n",
    "t.insert(MAX, MIN+1)\n",
    "#level 2\n",
    "t.insert(MIN, MAX-1)\n",
    "t.insert(MIN, MAX-2)\n",
    "t.insert(MIN+1, MAX-3)\n",
    "t.insert(MIN+1, MAX-4)\n",
    "#level 3\n",
    "t.insert(MAX-1, -1)\n",
    "t.insert(MAX-1, 8)\n",
    "t.insert(MAX-2, -3)\n",
    "t.insert(MAX-2, -1)\n",
    "t.insert(MAX-3, 2)\n",
    "t.insert(MAX-3, 1)\n",
    "t.insert(MAX-4, -3)\n",
    "t.insert(MAX-4, 4)\n",
    "t.show()"
   ]
  },
  {
   "cell_type": "code",
   "execution_count": 147,
   "metadata": {},
   "outputs": [
    {
     "data": {
      "text/plain": [
       "2"
      ]
     },
     "execution_count": 147,
     "metadata": {},
     "output_type": "execute_result"
    }
   ],
   "source": [
    "t.minimax(t.root, True)"
   ]
  },
  {
   "cell_type": "markdown",
   "metadata": {},
   "source": [
    "# Question 02"
   ]
  },
  {
   "cell_type": "code",
   "execution_count": 148,
   "metadata": {},
   "outputs": [
    {
     "name": "stdout",
     "output_type": "stream",
     "text": [
      "10000\n",
      "-10000\n",
      "9999\n",
      "-9998\n",
      "10\n",
      "5\n",
      "-9997\n",
      "7\n",
      "11\n",
      "9998\n",
      "-9996\n",
      "12\n",
      "8\n",
      "-9995\n",
      "9\n",
      "8\n",
      "-9999\n",
      "9997\n",
      "-9994\n",
      "5\n",
      "12\n",
      "-9993\n",
      "11\n",
      "12\n",
      "9996\n",
      "-9992\n",
      "9\n",
      "8\n",
      "-9991\n",
      "7\n",
      "10\n"
     ]
    }
   ],
   "source": [
    "MAX =  10000\n",
    "MIN = -10000\n",
    "#level 0\n",
    "t = Tree(MAX)\n",
    "#level 1\n",
    "t.insert(MAX, MIN)\n",
    "t.insert(MAX, MIN+1)\n",
    "#level 2\n",
    "t.insert(MIN, MAX-1)\n",
    "t.insert(MIN, MAX-2)\n",
    "t.insert(MIN+1, MAX-3)\n",
    "t.insert(MIN+1, MAX-4)\n",
    "#level 3\n",
    "t.insert(MAX-1, MIN+2)\n",
    "t.insert(MAX-1, MIN+3)\n",
    "t.insert(MAX-2, MIN+4)\n",
    "t.insert(MAX-2, MIN+5)\n",
    "t.insert(MAX-3, MIN+6)\n",
    "t.insert(MAX-3, MIN+7)\n",
    "t.insert(MAX-4, MIN+8)\n",
    "t.insert(MAX-4, MIN+9)\n",
    "#level 4\n",
    "t.insert(MIN+2, 10)\n",
    "t.insert(MIN+2, 5)\n",
    "t.insert(MIN+3, 7)\n",
    "t.insert(MIN+3, 11)\n",
    "t.insert(MIN+4, 12)\n",
    "t.insert(MIN+4, 8)\n",
    "t.insert(MIN+5, 9)\n",
    "t.insert(MIN+5, 8)\n",
    "t.insert(MIN+6, 5)\n",
    "t.insert(MIN+6, 12)\n",
    "t.insert(MIN+7, 11)\n",
    "t.insert(MIN+7, 12)\n",
    "t.insert(MIN+8, 9)\n",
    "t.insert(MIN+8, 8)\n",
    "t.insert(MIN+9, 7)\n",
    "t.insert(MIN+9, 10)\n",
    "t.show()"
   ]
  },
  {
   "cell_type": "code",
   "execution_count": 149,
   "metadata": {},
   "outputs": [
    {
     "data": {
      "text/plain": [
       "8"
      ]
     },
     "execution_count": 149,
     "metadata": {},
     "output_type": "execute_result"
    }
   ],
   "source": [
    "alpha = float('-inf')\n",
    "beta = float('inf')\n",
    "t.minimax_ab(t.root, 0, True, alpha, beta)"
   ]
  },
  {
   "cell_type": "markdown",
   "metadata": {},
   "source": [
    "# Question 03"
   ]
  },
  {
   "cell_type": "code",
   "execution_count": 150,
   "metadata": {},
   "outputs": [
    {
     "name": "stdout",
     "output_type": "stream",
     "text": [
      "10000\n",
      "-10000\n",
      "9999\n",
      "-9998\n",
      "3\n",
      "4\n",
      "-9997\n",
      "2\n",
      "1\n",
      "9998\n",
      "-9996\n",
      "7\n",
      "8\n",
      "-9995\n",
      "9\n",
      "10\n",
      "-9999\n",
      "9997\n",
      "-9994\n",
      "2\n",
      "11\n",
      "-9993\n",
      "1\n",
      "12\n",
      "9996\n",
      "-9992\n",
      "34\n",
      "9\n",
      "-9991\n",
      "13\n",
      "16\n"
     ]
    }
   ],
   "source": [
    "MAX =  10000\n",
    "MIN = -10000\n",
    "#level 0\n",
    "t = Tree(MAX)\n",
    "#level 1\n",
    "t.insert(MAX, MIN)\n",
    "t.insert(MAX, MIN+1)\n",
    "#level 2\n",
    "t.insert(MIN, MAX-1)\n",
    "t.insert(MIN, MAX-2)\n",
    "t.insert(MIN+1, MAX-3)\n",
    "t.insert(MIN+1, MAX-4)\n",
    "#level 3\n",
    "t.insert(MAX-1, MIN+2)\n",
    "t.insert(MAX-1, MIN+3)\n",
    "t.insert(MAX-2, MIN+4)\n",
    "t.insert(MAX-2, MIN+5)\n",
    "t.insert(MAX-3, MIN+6)\n",
    "t.insert(MAX-3, MIN+7)\n",
    "t.insert(MAX-4, MIN+8)\n",
    "t.insert(MAX-4, MIN+9)\n",
    "#level 4\n",
    "t.insert(MIN+2, 3)\n",
    "t.insert(MIN+2, 4)\n",
    "t.insert(MIN+3, 2)\n",
    "t.insert(MIN+3, 1)\n",
    "t.insert(MIN+4, 7)\n",
    "t.insert(MIN+4, 8)\n",
    "t.insert(MIN+5, 9)\n",
    "t.insert(MIN+5, 10)\n",
    "t.insert(MIN+6, 2)\n",
    "t.insert(MIN+6, 11)\n",
    "t.insert(MIN+7, 1)\n",
    "t.insert(MIN+7, 12)\n",
    "t.insert(MIN+8, 34)\n",
    "t.insert(MIN+8, 9)\n",
    "t.insert(MIN+9, 13)\n",
    "t.insert(MIN+9, 16)\n",
    "t.show()"
   ]
  },
  {
   "cell_type": "code",
   "execution_count": 151,
   "metadata": {},
   "outputs": [
    {
     "data": {
      "text/plain": [
       "3"
      ]
     },
     "execution_count": 151,
     "metadata": {},
     "output_type": "execute_result"
    }
   ],
   "source": [
    "alpha = float('-inf')\n",
    "beta = float('inf')\n",
    "t.minimax_ab(t.root, 0, True, alpha, beta)"
   ]
  },
  {
   "cell_type": "markdown",
   "metadata": {},
   "source": [
    "# Question 04"
   ]
  },
  {
   "cell_type": "code",
   "execution_count": 152,
   "metadata": {},
   "outputs": [
    {
     "name": "stdout",
     "output_type": "stream",
     "text": [
      "10000\n",
      "-10000\n",
      "9999\n",
      "-1\n",
      "4\n",
      "9998\n",
      "2\n",
      "6\n",
      "-9999\n",
      "9997\n",
      "-3\n",
      "-5\n",
      "9996\n",
      "0\n",
      "7\n"
     ]
    }
   ],
   "source": [
    "MAX =  10000\n",
    "MIN = -10000\n",
    "#level 0\n",
    "t = Tree(MAX)\n",
    "#level 1\n",
    "t.insert(MAX, MIN)\n",
    "t.insert(MAX, MIN+1)\n",
    "#level 2\n",
    "t.insert(MIN, MAX-1)\n",
    "t.insert(MIN, MAX-2)\n",
    "t.insert(MIN+1, MAX-3)\n",
    "t.insert(MIN+1, MAX-4)\n",
    "#level 3\n",
    "t.insert(MAX-1, -1)\n",
    "t.insert(MAX-1, 4)\n",
    "t.insert(MAX-2, 2)\n",
    "t.insert(MAX-2, 6)\n",
    "t.insert(MAX-3, -3)\n",
    "t.insert(MAX-3, -5)\n",
    "t.insert(MAX-4, 0)\n",
    "t.insert(MAX-4, 7)\n",
    "t.show()"
   ]
  },
  {
   "cell_type": "code",
   "execution_count": 153,
   "metadata": {},
   "outputs": [
    {
     "data": {
      "text/plain": [
       "4"
      ]
     },
     "execution_count": 153,
     "metadata": {},
     "output_type": "execute_result"
    }
   ],
   "source": [
    "t.minimax(t.root, True)"
   ]
  },
  {
   "cell_type": "markdown",
   "metadata": {},
   "source": [
    "# Question 05"
   ]
  },
  {
   "cell_type": "code",
   "execution_count": 154,
   "metadata": {},
   "outputs": [
    {
     "name": "stdout",
     "output_type": "stream",
     "text": [
      "10000\n",
      "-10000\n",
      "9999\n",
      "2\n",
      "3\n",
      "9998\n",
      "5\n",
      "9\n",
      "-9999\n",
      "9997\n",
      "0\n",
      "1\n",
      "9996\n",
      "7\n",
      "7\n"
     ]
    }
   ],
   "source": [
    "MAX =  10000\n",
    "MIN = -10000\n",
    "#level 0\n",
    "t = Tree(MAX)\n",
    "#level 1\n",
    "t.insert(MAX, MIN)\n",
    "t.insert(MAX, MIN+1)\n",
    "#level 2\n",
    "t.insert(MIN, MAX-1)\n",
    "t.insert(MIN, MAX-2)\n",
    "t.insert(MIN+1, MAX-3)\n",
    "t.insert(MIN+1, MAX-4)\n",
    "#level 3\n",
    "t.insert(MAX-1, 2)\n",
    "t.insert(MAX-1, 3)\n",
    "t.insert(MAX-2, 5)\n",
    "t.insert(MAX-2, 9)\n",
    "t.insert(MAX-3, 0)\n",
    "t.insert(MAX-3, 1)\n",
    "t.insert(MAX-4, 7)\n",
    "t.insert(MAX-4, 7)\n",
    "t.show()"
   ]
  },
  {
   "cell_type": "code",
   "execution_count": 155,
   "metadata": {},
   "outputs": [
    {
     "data": {
      "text/plain": [
       "3"
      ]
     },
     "execution_count": 155,
     "metadata": {},
     "output_type": "execute_result"
    }
   ],
   "source": [
    "alpha = float('-inf')\n",
    "beta = float('inf')\n",
    "t.minimax_ab(t.root, 0, True, alpha, beta)"
   ]
  }
 ],
 "metadata": {
  "kernelspec": {
   "display_name": "Python 3",
   "language": "python",
   "name": "python3"
  },
  "language_info": {
   "codemirror_mode": {
    "name": "ipython",
    "version": 3
   },
   "file_extension": ".py",
   "mimetype": "text/x-python",
   "name": "python",
   "nbconvert_exporter": "python",
   "pygments_lexer": "ipython3",
   "version": "3.8.5"
  }
 },
 "nbformat": 4,
 "nbformat_minor": 4
}
